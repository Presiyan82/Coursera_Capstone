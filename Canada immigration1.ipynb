{
 "cells": [
  {
   "cell_type": "markdown",
   "metadata": {},
   "source": [
    "# Capstone Project - The Battle of Neighborhoods"
   ]
  },
  {
   "cell_type": "markdown",
   "metadata": {},
   "source": [
    "### Canada’s skilled worker immigration program"
   ]
  },
  {
   "cell_type": "markdown",
   "metadata": {},
   "source": [
    "![Image of Yaktocat](https://encrypted-tbn0.gstatic.com/images?q=tbn:ANd9GcRgxGE0Wqx9tFC_vfgYjPNPo39oQIMxipRhL1QN5l_apiJk3Xbm0A)"
   ]
  },
  {
   "cell_type": "markdown",
   "metadata": {},
   "source": [
    "- **Introduction**\n",
    "\n",
    "Each year the Canadian government enables skilled workers worldwide to become Canadian citizens. Of course in order to become resident the candidates should meet certain criteria that attest their qualification and eligibility to stay and work in Canada.\n",
    "\n",
    "One can probably imagine how hard is for any newcomer to find its place in a new country, new city and new environment at all. Skilled experts usually receive higher income than average so they normally prefer to live in good neighborhoods with clean streets, fancy restaurants, reputable schools etc. Finding such neighborhood is usually their primary goal when arriving at the new place and they are ready to pay more but to receive proper living conditions. \n",
    "\n",
    "- **Problem statement and target group identification**\n",
    "\n",
    "The present study will be examining the opportunities for such skilled immigrants to find their dream home when moving to Canada. The Canadian city chosen for this project is Toronto because it is large enough, offers many opportunities, it is multiethnic and serves as an industry and economic capital of the country."
   ]
  },
  {
   "cell_type": "markdown",
   "metadata": {},
   "source": [
    "\n",
    "\n"
   ]
  }
 ],
 "metadata": {
  "kernelspec": {
   "display_name": "Python 3",
   "language": "python",
   "name": "python3"
  },
  "language_info": {
   "codemirror_mode": {
    "name": "ipython",
    "version": 3
   },
   "file_extension": ".py",
   "mimetype": "text/x-python",
   "name": "python",
   "nbconvert_exporter": "python",
   "pygments_lexer": "ipython3",
   "version": "3.6.6"
  }
 },
 "nbformat": 4,
 "nbformat_minor": 2
}
