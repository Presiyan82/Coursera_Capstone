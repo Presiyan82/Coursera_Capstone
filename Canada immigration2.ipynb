{
 "cells": [
  {
   "cell_type": "markdown",
   "metadata": {},
   "source": [
    "# Capstone Project - The Battle of Neighborhoods"
   ]
  },
  {
   "cell_type": "markdown",
   "metadata": {},
   "source": [
    "### Canada’s skilled worker immigration program"
   ]
  },
  {
   "cell_type": "markdown",
   "metadata": {},
   "source": [
    "![Image of Yaktocat](https://encrypted-tbn0.gstatic.com/images?q=tbn:ANd9GcRgxGE0Wqx9tFC_vfgYjPNPo39oQIMxipRhL1QN5l_apiJk3Xbm0A)"
   ]
  },
  {
   "cell_type": "markdown",
   "metadata": {},
   "source": [
    "- **Data needed**\n",
    "\n",
    "In order to execute the current assignment some research data will certainly be needed. In essence there will be two master datasets that will serve as major sources. \n",
    "\n",
    "First dataset as expected contains data related with Toronto’s neighborhoods and their physical coordinates. This data is available and will be used from the previous assignment.\n",
    "\n",
    "The second source as suggested will be Foursquare. That data will be vital for the present research as it actually provides great insights from other users about the surroundings and empowers the data analyst to map them with their real geographic locations.\n",
    "\n",
    "Finally, after implementing all data manipulation techniques a careful consideration on data results will be made. The final decision which neighborhood is more preferred will be based on certain criteria like overall infrastructure, shopping centers, night life etc. \n"
   ]
  }
 ],
 "metadata": {
  "kernelspec": {
   "display_name": "Python 3",
   "language": "python",
   "name": "python3"
  },
  "language_info": {
   "codemirror_mode": {
    "name": "ipython",
    "version": 3
   },
   "file_extension": ".py",
   "mimetype": "text/x-python",
   "name": "python",
   "nbconvert_exporter": "python",
   "pygments_lexer": "ipython3",
   "version": "3.6.6"
  }
 },
 "nbformat": 4,
 "nbformat_minor": 2
}
